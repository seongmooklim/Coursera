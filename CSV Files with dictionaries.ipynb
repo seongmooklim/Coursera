{
  "nbformat": 4,
  "nbformat_minor": 0,
  "metadata": {
    "colab": {
      "provenance": [],
      "authorship_tag": "ABX9TyP2UEMasO6bc7Q0YhEHGIqC",
      "include_colab_link": true
    },
    "kernelspec": {
      "name": "python3",
      "display_name": "Python 3"
    },
    "language_info": {
      "name": "python"
    }
  },
  "cells": [
    {
      "cell_type": "markdown",
      "metadata": {
        "id": "view-in-github",
        "colab_type": "text"
      },
      "source": [
        "<a href=\"https://colab.research.google.com/github/seongmooklim/Coursera/blob/main/CSV%20Files%20with%20dictionaries.ipynb\" target=\"_parent\"><img src=\"https://colab.research.google.com/assets/colab-badge.svg\" alt=\"Open In Colab\"/></a>"
      ]
    },
    {
      "cell_type": "code",
      "execution_count": 10,
      "metadata": {
        "colab": {
          "base_uri": "https://localhost:8080/"
        },
        "id": "k2AvMEdm3Kfm",
        "outputId": "20fe2cf8-5167-4e9c-b242-944e4922858e"
      },
      "outputs": [
        {
          "output_type": "stream",
          "name": "stdout",
          "text": [
            "Name: Sabrina Green, Phone:  802-867-5309, Role:  System Administrator\n",
            "Name: Eli Jones, Phone:  684-3481127, Role:  IT specialist\n",
            "Name: Melody Daniels, Phone:  846-687-7436, Role:  Programmer\n",
            "Name: Charlie Rivera, Phone:  698-746-3357, Role:  Web Developer\n"
          ]
        }
      ],
      "source": [
        "import csv\n",
        "with open(\"csv_file.txt\") as f:\n",
        "  csv_f = csv.reader(f)\n",
        "\n",
        "  for row in csv_f:\n",
        "    name, phone, role = row\n",
        "    print(\"Name: {}, Phone: {}, Role: {}\".format(name, phone, role))"
      ]
    },
    {
      "cell_type": "code",
      "source": [
        "hosts = [[\"workstation.local\", \"192.168.25.46\"],[\"webserver.cloud\",\"10.2.5.6\"]]\n",
        "with open(\"hosts.csv\",\"w\") as hosts_csv:\n",
        "  writer = csv.writer(hosts_csv)\n",
        "  writer.writerows(hosts)"
      ],
      "metadata": {
        "id": "JiMwSqbX3bM3"
      },
      "execution_count": 13,
      "outputs": []
    },
    {
      "cell_type": "code",
      "source": [
        "#cat software.csv\n",
        "\n",
        "with open('software.csv') as software:\n",
        "  reader = csv.DictReader(software)\n",
        "  for row in reader:\n",
        "    print((\"{} has {} users\").format(row[\"Output name\"],row[\"users\"]))"
      ],
      "metadata": {
        "colab": {
          "base_uri": "https://localhost:8080/"
        },
        "id": "uc3u_w1A50Gm",
        "outputId": "629e5768-3702-4f5c-db01-b9f03f559387"
      },
      "execution_count": 23,
      "outputs": [
        {
          "output_type": "stream",
          "name": "stdout",
          "text": [
            "MailTree has 324 users\n",
            "CalDoor has 22 users\n",
            "Chatty Chicken has 4 users\n"
          ]
        }
      ]
    },
    {
      "cell_type": "code",
      "source": [
        "users = [{\"name\": \"Sol Mansi\", \"username\": \"solm\", \"department\": \"IT infrastructure\"},{\"name\": \"Lio Nelson\", \"username\": \"lion\", \"department\": \"User Experience Research\"},{\"name\": \"Charlie Grey\", \"username\": \"greyc\", \"department\": \"Development\"}]\n",
        "keys = [\"name\", \"username\", \"department\"]\n",
        "\n",
        "with open(\"by_department.csv\",\"w\") as by_department:\n",
        "  writer = csv.DictWriter(by_department, fieldnames=keys)\n",
        "  writer.writeheader()\n",
        "  writer.writerows(users)\n"
      ],
      "metadata": {
        "id": "Dnqq1Juf7l_M"
      },
      "execution_count": 25,
      "outputs": []
    },
    {
      "cell_type": "code",
      "source": [],
      "metadata": {
        "id": "HK5UxxSN-uP8"
      },
      "execution_count": null,
      "outputs": []
    }
  ]
}