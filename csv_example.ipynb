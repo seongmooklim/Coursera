{
  "nbformat": 4,
  "nbformat_minor": 0,
  "metadata": {
    "colab": {
      "provenance": [],
      "authorship_tag": "ABX9TyP+HijMXv8z6Et6o9qhJVAc",
      "include_colab_link": true
    },
    "kernelspec": {
      "name": "python3",
      "display_name": "Python 3"
    },
    "language_info": {
      "name": "python"
    }
  },
  "cells": [
    {
      "cell_type": "markdown",
      "metadata": {
        "id": "view-in-github",
        "colab_type": "text"
      },
      "source": [
        "<a href=\"https://colab.research.google.com/github/seongmooklim/Coursera/blob/main/csv_example.ipynb\" target=\"_parent\"><img src=\"https://colab.research.google.com/assets/colab-badge.svg\" alt=\"Open In Colab\"/></a>"
      ]
    },
    {
      "cell_type": "code",
      "execution_count": 4,
      "metadata": {
        "id": "n-5Yhyysu0sX"
      },
      "outputs": [],
      "source": [
        "import csv\n",
        "\n",
        "hosts = [[\"workstation.local\", \"192.168.25.46\"],[\"webserver.cloud\",\"10.2.5.6\"]]\n",
        "\n",
        "with open(\"hosts.csv\",\"w\") as hosts_csv:\n",
        "  writer = csv.writer(hosts_csv)\n",
        "  writer.writerows(hosts)"
      ]
    },
    {
      "cell_type": "code",
      "source": [
        "cat hosts.csv"
      ],
      "metadata": {
        "colab": {
          "base_uri": "https://localhost:8080/"
        },
        "id": "shR3DAMszLwb",
        "outputId": "8af9a821-084f-43be-bdb3-86b0dd276cfe"
      },
      "execution_count": 21,
      "outputs": [
        {
          "output_type": "stream",
          "name": "stdout",
          "text": [
            "workstation.local,192.168.25.46\r\n",
            "webserver.cloud,10.2.5.6\r\n"
          ]
        }
      ]
    },
    {
      "cell_type": "code",
      "source": [
        "cat csv_test.txt"
      ],
      "metadata": {
        "colab": {
          "base_uri": "https://localhost:8080/"
        },
        "id": "8zeA4_IlyjbF",
        "outputId": "3555d001-e805-4610-c43e-473bf32c80de"
      },
      "execution_count": 14,
      "outputs": [
        {
          "output_type": "stream",
          "name": "stdout",
          "text": [
            "name,phone,role\n",
            "Sabrina Green, 802-867-5309, System Administrator\n",
            "Eli Jones, 684-3481127, IT specialist\n",
            "Melody Daniels, 846-687-7436, Programmer\n",
            "Charlie Rivera, 698-746-3357, Web Developer"
          ]
        }
      ]
    },
    {
      "cell_type": "code",
      "source": [],
      "metadata": {
        "id": "fm2ZwiXjyjQX"
      },
      "execution_count": null,
      "outputs": []
    },
    {
      "cell_type": "code",
      "source": [
        "with open(\"csv_test.txt\") as f:\n",
        "  csv_file = csv.reader(f)\n",
        "  for row in csv_file:\n",
        "    name, phone, role = row\n",
        "    print(\"Name: {}, Phone: {}, Role: {}\".format(name, phone, role))"
      ],
      "metadata": {
        "colab": {
          "base_uri": "https://localhost:8080/"
        },
        "id": "xIJ5Dgi3v-2G",
        "outputId": "eec613e0-b4ac-41ee-9cd9-bb780945d49a"
      },
      "execution_count": 19,
      "outputs": [
        {
          "output_type": "stream",
          "name": "stdout",
          "text": [
            "Name: name, Phone: phone, Role: role\n",
            "Name: Sabrina Green, Phone:  802-867-5309, Role:  System Administrator\n",
            "Name: Eli Jones, Phone:  684-3481127, Role:  IT specialist\n",
            "Name: Melody Daniels, Phone:  846-687-7436, Role:  Programmer\n",
            "Name: Charlie Rivera, Phone:  698-746-3357, Role:  Web Developer\n"
          ]
        }
      ]
    },
    {
      "cell_type": "code",
      "source": [
        "with open(\"csv_test.txt\") as f:\n",
        "  csv_file = csv.DictReader(f)\n",
        "  for row in csv_file:\n",
        "    print(\"Name: {}, Phone: {}, Role: {}\".format(row[\"name\"], row[\"phone\"], row[\"role\"]))"
      ],
      "metadata": {
        "colab": {
          "base_uri": "https://localhost:8080/"
        },
        "id": "2TYaRY9XxEep",
        "outputId": "84f66323-2b89-4411-a394-a5fd0c6d6a25"
      },
      "execution_count": 20,
      "outputs": [
        {
          "output_type": "stream",
          "name": "stdout",
          "text": [
            "Name: Sabrina Green, Phone:  802-867-5309, Role:  System Administrator\n",
            "Name: Eli Jones, Phone:  684-3481127, Role:  IT specialist\n",
            "Name: Melody Daniels, Phone:  846-687-7436, Role:  Programmer\n",
            "Name: Charlie Rivera, Phone:  698-746-3357, Role:  Web Developer\n"
          ]
        }
      ]
    },
    {
      "cell_type": "code",
      "source": [
        "users = [{\"name\": \"Sol Mansi\", \"username\": \"solm\", \"department\": \"IT infrastructure\"},{\"name\": \"Lio Nelson\", \"username\": \"lion\", \"department\": \"User Experience Research\"},{\"name\": \"Charlie Grey\", \"username\": \"greyc\", \"department\": \"Development\"}]\n",
        "keys = [\"name\", \"username\", \"department\"]\n",
        "\n",
        "with open(\"by_department.csv\",\"w\") as by_department:\n",
        "  writer = csv.DictWriter(by_department, fieldnames=keys)\n",
        "  #writer.writeheader()\n",
        "  writer.writerows(users)\n"
      ],
      "metadata": {
        "id": "2ZJgichNxr32"
      },
      "execution_count": 26,
      "outputs": []
    },
    {
      "cell_type": "code",
      "source": [
        "cat by_department.csv"
      ],
      "metadata": {
        "colab": {
          "base_uri": "https://localhost:8080/"
        },
        "id": "VyYZlcwSznPL",
        "outputId": "4dbbd072-059b-4b7d-bf43-584b3344ce9b"
      },
      "execution_count": 27,
      "outputs": [
        {
          "output_type": "stream",
          "name": "stdout",
          "text": [
            "Sol Mansi,solm,IT infrastructure\r\n",
            "Lio Nelson,lion,User Experience Research\r\n",
            "Charlie Grey,greyc,Development\r\n"
          ]
        }
      ]
    },
    {
      "cell_type": "code",
      "source": [],
      "metadata": {
        "id": "7jiwC3QZzpuA"
      },
      "execution_count": null,
      "outputs": []
    }
  ]
}